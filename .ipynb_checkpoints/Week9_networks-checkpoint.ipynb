{
 "cells": [
  {
   "cell_type": "markdown",
   "metadata": {},
   "source": [
    "# Networks "
   ]
  },
  {
   "cell_type": "markdown",
   "metadata": {},
   "source": [
    "In this lab you'll do some exercises to familiarise yourself with network properties and concepts."
   ]
  },
  {
   "cell_type": "code",
   "execution_count": 1,
   "metadata": {},
   "outputs": [
    {
     "name": "stdout",
     "output_type": "stream",
     "text": [
      "Requirement already satisfied: networkx in /usr/local/lib/python3.7/site-packages (2.4)\n",
      "Requirement already satisfied: decorator>=4.3.0 in /usr/local/lib/python3.7/site-packages (from networkx) (4.4.0)\n"
     ]
    }
   ],
   "source": [
    "%matplotlib inline\n",
    "!pip3 install networkx"
   ]
  },
  {
   "cell_type": "code",
   "execution_count": 2,
   "metadata": {},
   "outputs": [],
   "source": [
    "import itertools\n",
    "from collections import Counter\n",
    "import networkx as nx\n",
    "import matplotlib.pyplot as plt"
   ]
  },
  {
   "cell_type": "markdown",
   "metadata": {},
   "source": [
    "**Exploring classes in python.** <br>\n",
    "<p>\n",
    "dir(class_instance) will show you the available attributes of a class. <br>\n",
    "attributes include the methods (functions), and variables of the class.<br>\n",
    "networkx is a class, and both Graph() and DiGraph() are classes.\n",
    "</p>\n",
    "\n",
    "Run the following cell to see which variables and methods the networkx class provides:\n"
   ]
  },
  {
   "cell_type": "code",
   "execution_count": 3,
   "metadata": {},
   "outputs": [
    {
     "data": {
      "text/plain": [
       "['AmbiguousSolution',\n",
       " 'DiGraph',\n",
       " 'ExceededMaxIterations',\n",
       " 'Graph',\n",
       " 'GraphMLReader',\n",
       " 'GraphMLWriter',\n",
       " 'HasACycle',\n",
       " 'LCF_graph',\n",
       " 'LFR_benchmark_graph',\n",
       " 'MultiDiGraph',\n",
       " 'MultiGraph',\n",
       " 'NetworkXAlgorithmError',\n",
       " 'NetworkXError',\n",
       " 'NetworkXException',\n",
       " 'NetworkXNoCycle',\n",
       " 'NetworkXNoPath',\n",
       " 'NetworkXNotImplemented',\n",
       " 'NetworkXPointlessConcept',\n",
       " 'NetworkXTreewidthBoundExceeded',\n",
       " 'NetworkXUnbounded',\n",
       " 'NetworkXUnfeasible',\n",
       " 'NodeNotFound',\n",
       " 'NotATree',\n",
       " 'OrderedDiGraph',\n",
       " 'OrderedGraph',\n",
       " 'OrderedMultiDiGraph',\n",
       " 'OrderedMultiGraph',\n",
       " 'PlanarEmbedding',\n",
       " 'PowerIterationFailedConvergence',\n",
       " '__author__',\n",
       " '__bibtex__',\n",
       " '__builtins__',\n",
       " '__cached__',\n",
       " '__date__',\n",
       " '__doc__',\n",
       " '__file__',\n",
       " '__license__',\n",
       " '__loader__',\n",
       " '__name__',\n",
       " '__package__',\n",
       " '__path__',\n",
       " '__spec__',\n",
       " '__version__',\n",
       " 'adamic_adar_index',\n",
       " 'add_cycle',\n",
       " 'add_path',\n",
       " 'add_star',\n",
       " 'adj_matrix',\n",
       " 'adjacency',\n",
       " 'adjacency_data',\n",
       " 'adjacency_graph',\n",
       " 'adjacency_matrix',\n",
       " 'adjacency_spectrum',\n",
       " 'adjlist',\n",
       " 'algebraic_connectivity',\n",
       " 'algebraicconnectivity',\n",
       " 'algorithms',\n",
       " 'all',\n",
       " 'all_neighbors',\n",
       " 'all_node_cuts',\n",
       " 'all_pairs_bellman_ford_path',\n",
       " 'all_pairs_bellman_ford_path_length',\n",
       " 'all_pairs_dijkstra',\n",
       " 'all_pairs_dijkstra_path',\n",
       " 'all_pairs_dijkstra_path_length',\n",
       " 'all_pairs_lowest_common_ancestor',\n",
       " 'all_pairs_node_connectivity',\n",
       " 'all_pairs_shortest_path',\n",
       " 'all_pairs_shortest_path_length',\n",
       " 'all_shortest_paths',\n",
       " 'all_simple_paths',\n",
       " 'all_topological_sorts',\n",
       " 'ancestors',\n",
       " 'antichains',\n",
       " 'approximate_current_flow_betweenness_centrality',\n",
       " 'articulation_points',\n",
       " 'assortativity',\n",
       " 'astar',\n",
       " 'astar_path',\n",
       " 'astar_path_length',\n",
       " 'asteroidal',\n",
       " 'atlas',\n",
       " 'attr_matrix',\n",
       " 'attr_sparse_matrix',\n",
       " 'attracting',\n",
       " 'attracting_components',\n",
       " 'attribute_assortativity_coefficient',\n",
       " 'attribute_mixing_dict',\n",
       " 'attribute_mixing_matrix',\n",
       " 'attrmatrix',\n",
       " 'authority_matrix',\n",
       " 'average_clustering',\n",
       " 'average_degree_connectivity',\n",
       " 'average_neighbor_degree',\n",
       " 'average_node_connectivity',\n",
       " 'average_shortest_path_length',\n",
       " 'balanced_tree',\n",
       " 'barabasi_albert_graph',\n",
       " 'barbell_graph',\n",
       " 'barycenter',\n",
       " 'beamsearch',\n",
       " 'bellman_ford_path',\n",
       " 'bellman_ford_path_length',\n",
       " 'bellman_ford_predecessor_and_distance',\n",
       " 'bethe_hessian_matrix',\n",
       " 'bethe_hessian_spectrum',\n",
       " 'bethehessianmatrix',\n",
       " 'betweenness',\n",
       " 'betweenness_centrality',\n",
       " 'betweenness_centrality_source',\n",
       " 'betweenness_centrality_subset',\n",
       " 'betweenness_subset',\n",
       " 'bfs_beam_edges',\n",
       " 'bfs_edges',\n",
       " 'bfs_predecessors',\n",
       " 'bfs_successors',\n",
       " 'bfs_tree',\n",
       " 'biconnected',\n",
       " 'biconnected_component_edges',\n",
       " 'biconnected_components',\n",
       " 'bidirectional_dijkstra',\n",
       " 'bidirectional_shortest_path',\n",
       " 'binary',\n",
       " 'binomial_graph',\n",
       " 'binomial_tree',\n",
       " 'bipartite',\n",
       " 'bipartite_layout',\n",
       " 'boundary',\n",
       " 'boundary_expansion',\n",
       " 'breadth_first_search',\n",
       " 'bridges',\n",
       " 'bull_graph',\n",
       " 'capacity_scaling',\n",
       " 'cartesian_product',\n",
       " 'caveman_graph',\n",
       " 'center',\n",
       " 'centrality',\n",
       " 'chain_decomposition',\n",
       " 'chains',\n",
       " 'check_planarity',\n",
       " 'chordal',\n",
       " 'chordal_cycle_graph',\n",
       " 'chordal_graph_cliques',\n",
       " 'chordal_graph_treewidth',\n",
       " 'chvatal_graph',\n",
       " 'circulant_graph',\n",
       " 'circular_ladder_graph',\n",
       " 'circular_layout',\n",
       " 'classes',\n",
       " 'classic',\n",
       " 'clique',\n",
       " 'cliques_containing_node',\n",
       " 'closeness',\n",
       " 'closeness_centrality',\n",
       " 'closeness_vitality',\n",
       " 'cluster',\n",
       " 'clustering',\n",
       " 'cn_soundarajan_hopcroft',\n",
       " 'cographs',\n",
       " 'coloring',\n",
       " 'combinatorial_embedding_to_pos',\n",
       " 'common_neighbors',\n",
       " 'communicability',\n",
       " 'communicability_alg',\n",
       " 'communicability_betweenness_centrality',\n",
       " 'communicability_exp',\n",
       " 'community',\n",
       " 'complement',\n",
       " 'complete_bipartite_graph',\n",
       " 'complete_graph',\n",
       " 'complete_multipartite_graph',\n",
       " 'complete_to_chordal_graph',\n",
       " 'components',\n",
       " 'compose',\n",
       " 'compose_all',\n",
       " 'condensation',\n",
       " 'conductance',\n",
       " 'configuration_model',\n",
       " 'connected',\n",
       " 'connected_caveman_graph',\n",
       " 'connected_components',\n",
       " 'connected_double_edge_swap',\n",
       " 'connected_watts_strogatz_graph',\n",
       " 'connectivity',\n",
       " 'constraint',\n",
       " 'contracted_edge',\n",
       " 'contracted_nodes',\n",
       " 'convert',\n",
       " 'convert_matrix',\n",
       " 'convert_node_labels_to_integers',\n",
       " 'core',\n",
       " 'core_number',\n",
       " 'coreviews',\n",
       " 'correlation',\n",
       " 'cost_of_flow',\n",
       " 'could_be_isomorphic',\n",
       " 'covering',\n",
       " 'create_empty_copy',\n",
       " 'cubical_graph',\n",
       " 'current_flow_betweenness',\n",
       " 'current_flow_betweenness_centrality',\n",
       " 'current_flow_betweenness_centrality_subset',\n",
       " 'current_flow_betweenness_subset',\n",
       " 'current_flow_closeness',\n",
       " 'current_flow_closeness_centrality',\n",
       " 'cut_size',\n",
       " 'cuts',\n",
       " 'cycle_basis',\n",
       " 'cycle_graph',\n",
       " 'cycles',\n",
       " 'cytoscape',\n",
       " 'cytoscape_data',\n",
       " 'cytoscape_graph',\n",
       " 'dag',\n",
       " 'dag_longest_path',\n",
       " 'dag_longest_path_length',\n",
       " 'dag_to_branching',\n",
       " 'davis_southern_women_graph',\n",
       " 'degree',\n",
       " 'degree_alg',\n",
       " 'degree_assortativity_coefficient',\n",
       " 'degree_centrality',\n",
       " 'degree_histogram',\n",
       " 'degree_mixing_dict',\n",
       " 'degree_mixing_matrix',\n",
       " 'degree_pearson_correlation_coefficient',\n",
       " 'degree_seq',\n",
       " 'degree_sequence_tree',\n",
       " 'dense',\n",
       " 'dense_gnm_random_graph',\n",
       " 'density',\n",
       " 'depth_first_search',\n",
       " 'desargues_graph',\n",
       " 'descendants',\n",
       " 'descendants_at_distance',\n",
       " 'dfs_edges',\n",
       " 'dfs_labeled_edges',\n",
       " 'dfs_postorder_nodes',\n",
       " 'dfs_predecessors',\n",
       " 'dfs_preorder_nodes',\n",
       " 'dfs_successors',\n",
       " 'dfs_tree',\n",
       " 'diameter',\n",
       " 'diamond_graph',\n",
       " 'difference',\n",
       " 'digraph',\n",
       " 'dijkstra_path',\n",
       " 'dijkstra_path_length',\n",
       " 'dijkstra_predecessor_and_distance',\n",
       " 'directed',\n",
       " 'directed_combinatorial_laplacian_matrix',\n",
       " 'directed_configuration_model',\n",
       " 'directed_havel_hakimi_graph',\n",
       " 'directed_joint_degree_graph',\n",
       " 'directed_laplacian_matrix',\n",
       " 'directed_modularity_matrix',\n",
       " 'disjoint_union',\n",
       " 'disjoint_union_all',\n",
       " 'dispersion',\n",
       " 'distance_measures',\n",
       " 'distance_regular',\n",
       " 'dodecahedral_graph',\n",
       " 'dominance',\n",
       " 'dominance_frontiers',\n",
       " 'dominating',\n",
       " 'dominating_set',\n",
       " 'dorogovtsev_goltsev_mendes_graph',\n",
       " 'double_edge_swap',\n",
       " 'draw',\n",
       " 'draw_circular',\n",
       " 'draw_kamada_kawai',\n",
       " 'draw_networkx',\n",
       " 'draw_networkx_edge_labels',\n",
       " 'draw_networkx_edges',\n",
       " 'draw_networkx_labels',\n",
       " 'draw_networkx_nodes',\n",
       " 'draw_planar',\n",
       " 'draw_random',\n",
       " 'draw_shell',\n",
       " 'draw_spectral',\n",
       " 'draw_spring',\n",
       " 'drawing',\n",
       " 'dual_barabasi_albert_graph',\n",
       " 'duplication',\n",
       " 'duplication_divergence_graph',\n",
       " 'eccentricity',\n",
       " 'edge_betweenness',\n",
       " 'edge_betweenness_centrality',\n",
       " 'edge_betweenness_centrality_subset',\n",
       " 'edge_bfs',\n",
       " 'edge_boundary',\n",
       " 'edge_connectivity',\n",
       " 'edge_current_flow_betweenness_centrality',\n",
       " 'edge_current_flow_betweenness_centrality_subset',\n",
       " 'edge_dfs',\n",
       " 'edge_disjoint_paths',\n",
       " 'edge_expansion',\n",
       " 'edge_load_centrality',\n",
       " 'edge_subgraph',\n",
       " 'edgebfs',\n",
       " 'edgedfs',\n",
       " 'edgelist',\n",
       " 'edges',\n",
       " 'effective_size',\n",
       " 'efficiency',\n",
       " 'efficiency_measures',\n",
       " 'ego',\n",
       " 'ego_graph',\n",
       " 'eigenvector',\n",
       " 'eigenvector_centrality',\n",
       " 'eigenvector_centrality_numpy',\n",
       " 'empty_graph',\n",
       " 'enumerate_all_cliques',\n",
       " 'equitable_color',\n",
       " 'erdos_renyi_graph',\n",
       " 'estrada_index',\n",
       " 'euler',\n",
       " 'eulerian_circuit',\n",
       " 'eulerian_path',\n",
       " 'eulerize',\n",
       " 'exception',\n",
       " 'expanders',\n",
       " 'expected_degree_graph',\n",
       " 'extended_barabasi_albert_graph',\n",
       " 'extrema_bounding',\n",
       " 'fast_could_be_isomorphic',\n",
       " 'fast_gnp_random_graph',\n",
       " 'faster_could_be_isomorphic',\n",
       " 'fiedler_vector',\n",
       " 'filters',\n",
       " 'find_asteroidal_triple',\n",
       " 'find_cliques',\n",
       " 'find_cliques_recursive',\n",
       " 'find_cores',\n",
       " 'find_cycle',\n",
       " 'find_induced_nodes',\n",
       " 'florentine_families_graph',\n",
       " 'flow',\n",
       " 'flow_hierarchy',\n",
       " 'flow_matrix',\n",
       " 'floyd_warshall',\n",
       " 'floyd_warshall_numpy',\n",
       " 'floyd_warshall_predecessor_and_distance',\n",
       " 'freeze',\n",
       " 'from_dict_of_dicts',\n",
       " 'from_dict_of_lists',\n",
       " 'from_edgelist',\n",
       " 'from_graph6_bytes',\n",
       " 'from_nested_tuple',\n",
       " 'from_numpy_array',\n",
       " 'from_numpy_matrix',\n",
       " 'from_pandas_adjacency',\n",
       " 'from_pandas_edgelist',\n",
       " 'from_prufer_sequence',\n",
       " 'from_scipy_sparse_matrix',\n",
       " 'from_sparse6_bytes',\n",
       " 'frucht_graph',\n",
       " 'fruchterman_reingold_layout',\n",
       " 'full_join',\n",
       " 'full_rary_tree',\n",
       " 'function',\n",
       " 'gaussian_random_partition_graph',\n",
       " 'general_random_intersection_graph',\n",
       " 'generalized_degree',\n",
       " 'generate_adjlist',\n",
       " 'generate_edgelist',\n",
       " 'generate_gexf',\n",
       " 'generate_gml',\n",
       " 'generate_graphml',\n",
       " 'generate_multiline_adjlist',\n",
       " 'generate_pajek',\n",
       " 'generators',\n",
       " 'generic',\n",
       " 'geographical_threshold_graph',\n",
       " 'geometric',\n",
       " 'get_edge_attributes',\n",
       " 'get_node_attributes',\n",
       " 'gexf',\n",
       " 'global_efficiency',\n",
       " 'global_parameters',\n",
       " 'global_reaching_centrality',\n",
       " 'gml',\n",
       " 'gn_graph',\n",
       " 'gnc_graph',\n",
       " 'gnm_random_graph',\n",
       " 'gnp_random_graph',\n",
       " 'gnr_graph',\n",
       " 'goldberg_radzik',\n",
       " 'gomory_hu_tree',\n",
       " 'google_matrix',\n",
       " 'gpickle',\n",
       " 'graph',\n",
       " 'graph6',\n",
       " 'graph_atlas',\n",
       " 'graph_atlas_g',\n",
       " 'graph_clique_number',\n",
       " 'graph_edit_distance',\n",
       " 'graph_number_of_cliques',\n",
       " 'graphical',\n",
       " 'graphmatrix',\n",
       " 'graphml',\n",
       " 'graphviews',\n",
       " 'greedy_color',\n",
       " 'grid_2d_graph',\n",
       " 'grid_graph',\n",
       " 'group',\n",
       " 'group_betweenness_centrality',\n",
       " 'group_closeness_centrality',\n",
       " 'group_degree_centrality',\n",
       " 'group_in_degree_centrality',\n",
       " 'group_out_degree_centrality',\n",
       " 'harmonic',\n",
       " 'harmonic_centrality',\n",
       " 'has_bridges',\n",
       " 'has_eulerian_path',\n",
       " 'has_path',\n",
       " 'havel_hakimi_graph',\n",
       " 'heawood_graph',\n",
       " 'hexagonal_lattice_graph',\n",
       " 'hierarchy',\n",
       " 'hits',\n",
       " 'hits_alg',\n",
       " 'hits_numpy',\n",
       " 'hits_scipy',\n",
       " 'hoffman_singleton_graph',\n",
       " 'house_graph',\n",
       " 'house_x_graph',\n",
       " 'hub_matrix',\n",
       " 'hybrid',\n",
       " 'hypercube_graph',\n",
       " 'icosahedral_graph',\n",
       " 'identified_nodes',\n",
       " 'immediate_dominators',\n",
       " 'in_degree_centrality',\n",
       " 'incidence_matrix',\n",
       " 'incremental_closeness_centrality',\n",
       " 'induced_subgraph',\n",
       " 'info',\n",
       " 'information_centrality',\n",
       " 'internet_as_graphs',\n",
       " 'intersection',\n",
       " 'intersection_all',\n",
       " 'intersection_array',\n",
       " 'inverse_line_graph',\n",
       " 'is_aperiodic',\n",
       " 'is_arborescence',\n",
       " 'is_at_free',\n",
       " 'is_attracting_component',\n",
       " 'is_biconnected',\n",
       " 'is_bipartite',\n",
       " 'is_branching',\n",
       " 'is_chordal',\n",
       " 'is_connected',\n",
       " 'is_digraphical',\n",
       " 'is_directed',\n",
       " 'is_directed_acyclic_graph',\n",
       " 'is_distance_regular',\n",
       " 'is_dominating_set',\n",
       " 'is_edge_cover',\n",
       " 'is_empty',\n",
       " 'is_eulerian',\n",
       " 'is_forest',\n",
       " 'is_frozen',\n",
       " 'is_graphical',\n",
       " 'is_isolate',\n",
       " 'is_isomorphic',\n",
       " 'is_k_edge_connected',\n",
       " 'is_kl_connected',\n",
       " 'is_matching',\n",
       " 'is_maximal_matching',\n",
       " 'is_multigraphical',\n",
       " 'is_negatively_weighted',\n",
       " 'is_perfect_matching',\n",
       " 'is_pseudographical',\n",
       " 'is_semiconnected',\n",
       " 'is_semieulerian',\n",
       " 'is_simple_path',\n",
       " 'is_strongly_connected',\n",
       " 'is_strongly_regular',\n",
       " 'is_tree',\n",
       " 'is_valid_degree_sequence_erdos_gallai',\n",
       " 'is_valid_degree_sequence_havel_hakimi',\n",
       " 'is_valid_directed_joint_degree',\n",
       " 'is_valid_joint_degree',\n",
       " 'is_weakly_connected',\n",
       " 'is_weighted',\n",
       " 'isolate',\n",
       " 'isolates',\n",
       " 'isomorphism',\n",
       " 'jaccard_coefficient',\n",
       " 'jit',\n",
       " 'jit_data',\n",
       " 'jit_graph',\n",
       " 'johnson',\n",
       " 'join',\n",
       " 'joint_degree_graph',\n",
       " 'joint_degree_seq',\n",
       " 'json_graph',\n",
       " 'k_components',\n",
       " 'k_core',\n",
       " 'k_corona',\n",
       " 'k_crust',\n",
       " 'k_edge_augmentation',\n",
       " 'k_edge_components',\n",
       " 'k_edge_subgraphs',\n",
       " 'k_nearest_neighbors',\n",
       " 'k_random_intersection_graph',\n",
       " 'k_shell',\n",
       " 'k_truss',\n",
       " 'kamada_kawai_layout',\n",
       " 'karate_club_graph',\n",
       " 'katz',\n",
       " 'katz_centrality',\n",
       " 'katz_centrality_numpy',\n",
       " 'kl_connected_subgraph',\n",
       " 'kosaraju_strongly_connected_components',\n",
       " 'krackhardt_kite_graph',\n",
       " 'ladder_graph',\n",
       " 'laplacian_matrix',\n",
       " 'laplacian_spectrum',\n",
       " 'laplacianmatrix',\n",
       " 'lattice',\n",
       " 'lattice_reference',\n",
       " 'layout',\n",
       " 'leda',\n",
       " 'les_miserables_graph',\n",
       " 'lexicographic_product',\n",
       " 'lexicographical_topological_sort',\n",
       " 'linalg',\n",
       " 'line',\n",
       " 'line_graph',\n",
       " 'link_analysis',\n",
       " 'link_prediction',\n",
       " 'load',\n",
       " 'load_centrality',\n",
       " 'local_bridges',\n",
       " 'local_constraint',\n",
       " 'local_efficiency',\n",
       " 'local_reaching_centrality',\n",
       " 'lollipop_graph',\n",
       " 'lowest_common_ancestor',\n",
       " 'lowest_common_ancestors',\n",
       " 'make_clique_bipartite',\n",
       " 'make_max_clique_graph',\n",
       " 'make_small_graph',\n",
       " 'margulis_gabber_galil_graph',\n",
       " 'matching',\n",
       " 'max_flow_min_cost',\n",
       " 'max_weight_matching',\n",
       " 'maximal_independent_set',\n",
       " 'maximal_matching',\n",
       " 'maximum_branching',\n",
       " 'maximum_flow',\n",
       " 'maximum_flow_value',\n",
       " 'maximum_spanning_arborescence',\n",
       " 'maximum_spanning_edges',\n",
       " 'maximum_spanning_tree',\n",
       " 'min_cost_flow',\n",
       " 'min_cost_flow_cost',\n",
       " 'min_edge_cover',\n",
       " 'minimum_branching',\n",
       " 'minimum_cut',\n",
       " 'minimum_cut_value',\n",
       " 'minimum_cycle_basis',\n",
       " 'minimum_edge_cut',\n",
       " 'minimum_node_cut',\n",
       " 'minimum_spanning_arborescence',\n",
       " 'minimum_spanning_edges',\n",
       " 'minimum_spanning_tree',\n",
       " 'minors',\n",
       " 'mis',\n",
       " 'mixing',\n",
       " 'mixing_dict',\n",
       " 'mixing_expansion',\n",
       " 'modularity_matrix',\n",
       " 'modularity_spectrum',\n",
       " 'modularitymatrix',\n",
       " 'moebius_kantor_graph',\n",
       " 'multi_source_dijkstra',\n",
       " 'multi_source_dijkstra_path',\n",
       " 'multi_source_dijkstra_path_length',\n",
       " 'multidigraph',\n",
       " 'multigraph',\n",
       " 'multiline_adjlist',\n",
       " 'mycielski',\n",
       " 'mycielski_graph',\n",
       " 'mycielskian',\n",
       " 'navigable_small_world_graph',\n",
       " 'negative_edge_cycle',\n",
       " 'neighbor_degree',\n",
       " 'neighbors',\n",
       " 'network_simplex',\n",
       " 'networkx',\n",
       " 'newman_watts_strogatz_graph',\n",
       " 'node_attribute_xy',\n",
       " 'node_boundary',\n",
       " 'node_classification',\n",
       " 'node_clique_number',\n",
       " 'node_connected_component',\n",
       " 'node_connectivity',\n",
       " 'node_degree_xy',\n",
       " 'node_disjoint_paths',\n",
       " 'node_expansion',\n",
       " 'node_link',\n",
       " 'node_link_data',\n",
       " 'node_link_graph',\n",
       " 'nodes',\n",
       " 'nodes_with_selfloops',\n",
       " 'non_edges',\n",
       " 'non_neighbors',\n",
       " 'non_randomness',\n",
       " 'nonisomorphic_trees',\n",
       " 'normalized_cut_size',\n",
       " 'normalized_laplacian_matrix',\n",
       " 'normalized_laplacian_spectrum',\n",
       " 'not_implemented_for',\n",
       " 'null_graph',\n",
       " 'number_attracting_components',\n",
       " 'number_connected_components',\n",
       " 'number_of_cliques',\n",
       " 'number_of_edges',\n",
       " 'number_of_isolates',\n",
       " 'number_of_nodes',\n",
       " 'number_of_nonisomorphic_trees',\n",
       " 'number_of_selfloops',\n",
       " 'number_strongly_connected_components',\n",
       " 'number_weakly_connected_components',\n",
       " 'numeric_assortativity_coefficient',\n",
       " 'numeric_mixing_matrix',\n",
       " 'nx',\n",
       " 'nx_agraph',\n",
       " 'nx_pydot',\n",
       " 'nx_pylab',\n",
       " 'nx_shp',\n",
       " 'nx_yaml',\n",
       " 'octahedral_graph',\n",
       " 'omega',\n",
       " 'onion_layers',\n",
       " 'operators',\n",
       " 'optimal_edit_paths',\n",
       " 'optimize_edit_paths',\n",
       " 'optimize_graph_edit_distance',\n",
       " 'ordered',\n",
       " 'out_degree_centrality',\n",
       " 'overall_reciprocity',\n",
       " 'pagerank',\n",
       " 'pagerank_alg',\n",
       " 'pagerank_numpy',\n",
       " 'pagerank_scipy',\n",
       " 'pairs',\n",
       " 'pajek',\n",
       " 'pappus_graph',\n",
       " 'parse_adjlist',\n",
       " 'parse_edgelist',\n",
       " 'parse_gml',\n",
       " 'parse_graphml',\n",
       " 'parse_leda',\n",
       " 'parse_multiline_adjlist',\n",
       " 'parse_pajek',\n",
       " 'partial_duplication_graph',\n",
       " 'path_graph',\n",
       " 'percolation',\n",
       " 'percolation_centrality',\n",
       " 'periphery',\n",
       " 'petersen_graph',\n",
       " 'planar_drawing',\n",
       " 'planar_layout',\n",
       " 'planarity',\n",
       " 'planted_partition_graph',\n",
       " 'power',\n",
       " 'powerlaw_cluster_graph',\n",
       " 'predecessor',\n",
       " 'preferential_attachment',\n",
       " 'prefix_tree',\n",
       " 'product',\n",
       " 'project',\n",
       " 'projected_graph',\n",
       " 'quotient_graph',\n",
       " 'ra_index_soundarajan_hopcroft',\n",
       " 'radius',\n",
       " 'random_clustered',\n",
       " 'random_clustered_graph',\n",
       " 'random_cograph',\n",
       " 'random_degree_sequence_graph',\n",
       " 'random_geometric_graph',\n",
       " 'random_graphs',\n",
       " 'random_internet_as_graph',\n",
       " 'random_k_out_graph',\n",
       " 'random_kernel_graph',\n",
       " 'random_layout',\n",
       " 'random_lobster',\n",
       " 'random_partition_graph',\n",
       " 'random_powerlaw_tree',\n",
       " 'random_powerlaw_tree_sequence',\n",
       " 'random_reference',\n",
       " 'random_regular_graph',\n",
       " 'random_shell_graph',\n",
       " 'random_tree',\n",
       " 'reaching',\n",
       " 'read_adjlist',\n",
       " 'read_edgelist',\n",
       " 'read_gexf',\n",
       " 'read_gml',\n",
       " 'read_gpickle',\n",
       " 'read_graph6',\n",
       " 'read_graphml',\n",
       " 'read_leda',\n",
       " 'read_multiline_adjlist',\n",
       " 'read_pajek',\n",
       " 'read_shp',\n",
       " 'read_sparse6',\n",
       " 'read_weighted_edgelist',\n",
       " 'read_yaml',\n",
       " 'readwrite',\n",
       " 'reciprocity',\n",
       " 'reconstruct_path',\n",
       " 'recursive_simple_cycles',\n",
       " 'relabel',\n",
       " 'relabel_gexf_graph',\n",
       " 'relabel_nodes',\n",
       " 'relaxed_caveman_graph',\n",
       " 'release',\n",
       " 'reportviews',\n",
       " 'rescale_layout',\n",
       " 'resistance_distance',\n",
       " 'resource_allocation_index',\n",
       " 'restricted_view',\n",
       " 'reverse',\n",
       " 'reverse_view',\n",
       " 'rich_club_coefficient',\n",
       " 'richclub',\n",
       " 'ring_of_cliques',\n",
       " 'rooted_product',\n",
       " 's_metric',\n",
       " 'scale_free_graph',\n",
       " 'second_order',\n",
       " 'second_order_centrality',\n",
       " 'sedgewick_maze_graph',\n",
       " 'selfloop_edges',\n",
       " 'semiconnected',\n",
       " 'set_edge_attributes',\n",
       " 'set_node_attributes',\n",
       " 'shell_layout',\n",
       " 'shortest_path',\n",
       " 'shortest_path_length',\n",
       " 'shortest_paths',\n",
       " 'shortest_simple_paths',\n",
       " 'sigma',\n",
       " 'similarity',\n",
       " 'simple_cycles',\n",
       " 'simple_paths',\n",
       " 'simrank_similarity',\n",
       " 'simrank_similarity_numpy',\n",
       " 'single_source_bellman_ford',\n",
       " 'single_source_bellman_ford_path',\n",
       " 'single_source_bellman_ford_path_length',\n",
       " 'single_source_dijkstra',\n",
       " 'single_source_dijkstra_path',\n",
       " 'single_source_dijkstra_path_length',\n",
       " 'single_source_shortest_path',\n",
       " 'single_source_shortest_path_length',\n",
       " 'single_target_shortest_path',\n",
       " 'single_target_shortest_path_length',\n",
       " 'small',\n",
       " 'smallworld',\n",
       " 'smetric',\n",
       " 'social',\n",
       " 'soft_random_geometric_graph',\n",
       " 'spanner',\n",
       " 'sparse6',\n",
       " 'sparsifiers',\n",
       " 'spectral_graph_forge',\n",
       " 'spectral_layout',\n",
       " 'spectral_ordering',\n",
       " 'spectrum',\n",
       " 'spiral_layout',\n",
       " 'spring_layout',\n",
       " 'square_clustering',\n",
       " 'star_graph',\n",
       " 'stochastic',\n",
       " 'stochastic_block_model',\n",
       " 'stochastic_graph',\n",
       " 'stoer_wagner',\n",
       " 'strong_product',\n",
       " 'strongly_connected',\n",
       " 'strongly_connected_components',\n",
       " 'strongly_connected_components_recursive',\n",
       " 'structuralholes',\n",
       " 'subgraph',\n",
       " 'subgraph_alg',\n",
       " 'subgraph_centrality',\n",
       " 'subgraph_centrality_exp',\n",
       " 'subgraph_view',\n",
       " 'swap',\n",
       " 'symmetric_difference',\n",
       " 'tensor_product',\n",
       " 'test',\n",
       " 'testing',\n",
       " 'tetrahedral_graph',\n",
       " 'thresholded_random_geometric_graph',\n",
       " 'to_dict_of_dicts',\n",
       " 'to_dict_of_lists',\n",
       " 'to_directed',\n",
       " 'to_edgelist',\n",
       " 'to_graph6_bytes',\n",
       " 'to_nested_tuple',\n",
       " 'to_networkx_graph',\n",
       " 'to_numpy_array',\n",
       " 'to_numpy_matrix',\n",
       " 'to_numpy_recarray',\n",
       " 'to_pandas_adjacency',\n",
       " 'to_pandas_edgelist',\n",
       " 'to_prufer_sequence',\n",
       " 'to_scipy_sparse_matrix',\n",
       " 'to_sparse6_bytes',\n",
       " 'to_undirected',\n",
       " 'topological_sort',\n",
       " 'tournament',\n",
       " 'transitive_closure',\n",
       " 'transitive_closure_dag',\n",
       " 'transitive_reduction',\n",
       " 'transitivity',\n",
       " 'traversal',\n",
       " 'tree',\n",
       " 'tree_all_pairs_lowest_common_ancestor',\n",
       " 'tree_data',\n",
       " 'tree_graph',\n",
       " 'trees',\n",
       " 'triad_graph',\n",
       " 'triadic_census',\n",
       " 'triads',\n",
       " 'triangles',\n",
       " 'triangular_lattice_graph',\n",
       " 'trivial_graph',\n",
       " 'truncated_cube_graph',\n",
       " 'truncated_tetrahedron_graph',\n",
       " 'turan_graph',\n",
       " 'tutte_graph',\n",
       " 'unary',\n",
       " 'uniform_random_intersection_graph',\n",
       " 'union',\n",
       " 'union_all',\n",
       " 'unweighted',\n",
       " 'utils',\n",
       " 'vitality',\n",
       " 'volume',\n",
       " 'voronoi',\n",
       " 'voronoi_cells',\n",
       " 'voterank',\n",
       " 'voterank_alg',\n",
       " 'watts_strogatz_graph',\n",
       " 'waxman_graph',\n",
       " 'weakly_connected',\n",
       " 'weakly_connected_components',\n",
       " 'weighted',\n",
       " 'wheel_graph',\n",
       " 'wiener',\n",
       " 'wiener_index',\n",
       " 'windmill_graph',\n",
       " 'within_inter_cluster',\n",
       " 'write_adjlist',\n",
       " 'write_edgelist',\n",
       " 'write_gexf',\n",
       " 'write_gml',\n",
       " 'write_gpickle',\n",
       " 'write_graph6',\n",
       " 'write_graphml',\n",
       " 'write_graphml_lxml',\n",
       " 'write_graphml_xml',\n",
       " 'write_multiline_adjlist',\n",
       " 'write_pajek',\n",
       " 'write_shp',\n",
       " 'write_sparse6',\n",
       " 'write_weighted_edgelist',\n",
       " 'write_yaml']"
      ]
     },
     "execution_count": 3,
     "metadata": {},
     "output_type": "execute_result"
    }
   ],
   "source": [
    "dir(nx)"
   ]
  },
  {
   "cell_type": "markdown",
   "metadata": {},
   "source": [
    "<p>Ok, thats a lot of attributes. </p>\n",
    "\n",
    "We will work with **Graph()** (undirected) and **DiGraph()** (directed) graph classes today. Let's see what attributes the Graph() class has:\n"
   ]
  },
  {
   "cell_type": "code",
   "execution_count": 4,
   "metadata": {},
   "outputs": [
    {
     "data": {
      "text/plain": [
       "['__class__',\n",
       " '__contains__',\n",
       " '__delattr__',\n",
       " '__dict__',\n",
       " '__dir__',\n",
       " '__doc__',\n",
       " '__eq__',\n",
       " '__format__',\n",
       " '__ge__',\n",
       " '__getattribute__',\n",
       " '__getitem__',\n",
       " '__gt__',\n",
       " '__hash__',\n",
       " '__init__',\n",
       " '__init_subclass__',\n",
       " '__iter__',\n",
       " '__le__',\n",
       " '__len__',\n",
       " '__lt__',\n",
       " '__module__',\n",
       " '__ne__',\n",
       " '__new__',\n",
       " '__reduce__',\n",
       " '__reduce_ex__',\n",
       " '__repr__',\n",
       " '__setattr__',\n",
       " '__sizeof__',\n",
       " '__str__',\n",
       " '__subclasshook__',\n",
       " '__weakref__',\n",
       " '_adj',\n",
       " '_node',\n",
       " 'add_edge',\n",
       " 'add_edges_from',\n",
       " 'add_node',\n",
       " 'add_nodes_from',\n",
       " 'add_weighted_edges_from',\n",
       " 'adj',\n",
       " 'adjacency',\n",
       " 'adjlist_inner_dict_factory',\n",
       " 'adjlist_outer_dict_factory',\n",
       " 'clear',\n",
       " 'copy',\n",
       " 'degree',\n",
       " 'edge_attr_dict_factory',\n",
       " 'edge_subgraph',\n",
       " 'edges',\n",
       " 'get_edge_data',\n",
       " 'graph',\n",
       " 'graph_attr_dict_factory',\n",
       " 'has_edge',\n",
       " 'has_node',\n",
       " 'is_directed',\n",
       " 'is_multigraph',\n",
       " 'name',\n",
       " 'nbunch_iter',\n",
       " 'neighbors',\n",
       " 'node_attr_dict_factory',\n",
       " 'node_dict_factory',\n",
       " 'nodes',\n",
       " 'number_of_edges',\n",
       " 'number_of_nodes',\n",
       " 'order',\n",
       " 'remove_edge',\n",
       " 'remove_edges_from',\n",
       " 'remove_node',\n",
       " 'remove_nodes_from',\n",
       " 'size',\n",
       " 'subgraph',\n",
       " 'to_directed',\n",
       " 'to_directed_class',\n",
       " 'to_undirected',\n",
       " 'to_undirected_class',\n",
       " 'update']"
      ]
     },
     "execution_count": 4,
     "metadata": {},
     "output_type": "execute_result"
    }
   ],
   "source": [
    "graphA = nx.Graph()\n",
    "dir(graphA)"
   ]
  },
  {
   "cell_type": "markdown",
   "metadata": {},
   "source": [
    "We can try a few of these out to see how they work. Run the cell below."
   ]
  },
  {
   "cell_type": "code",
   "execution_count": 5,
   "metadata": {},
   "outputs": [
    {
     "name": "stdout",
     "output_type": "stream",
     "text": [
      "False\n",
      "0\n",
      "1\n"
     ]
    }
   ],
   "source": [
    "print(graphA.is_directed())\n",
    "print(graphA.size())\n",
    "\n",
    "graphA.add_edge('A', 'B')\n",
    "print(graphA.size())"
   ]
  },
  {
   "cell_type": "markdown",
   "metadata": {},
   "source": [
    "Rather than printing out DiGraph's methods, the following cell will list the attributes which are **exclusive** to Graph or DiGraph."
   ]
  },
  {
   "cell_type": "code",
   "execution_count": 6,
   "metadata": {},
   "outputs": [
    {
     "name": "stdout",
     "output_type": "stream",
     "text": [
      "\n",
      "GraphA (Graph) exclusive attributes:\n",
      "[]\n",
      "\n",
      "GraphB (DiGraph) exclusive attributes:\n",
      "['succ', 'has_predecessor', 'has_successor', 'predecessors', '_pred', 'in_edges', 'reverse', 'out_edges', '_succ', 'in_degree', 'out_degree', 'pred', 'successors']\n"
     ]
    }
   ],
   "source": [
    "graphA = nx.Graph()\n",
    "graphB = nx.DiGraph()\n",
    "\n",
    "graphA_attributes = set(dir(graphA))\n",
    "graphB_attributes = set(dir(graphB))\n",
    "\n",
    "print('\\nGraphA (Graph) exclusive attributes:')\n",
    "print(list(graphA_attributes - graphB_attributes))\n",
    "\n",
    "print('\\nGraphB (DiGraph) exclusive attributes:')\n",
    "print(list(graphB_attributes - graphA_attributes))\n"
   ]
  },
  {
   "cell_type": "markdown",
   "metadata": {},
   "source": [
    "<br>We can see that the directed graph class has a few more methods than the undirected graph.\n",
    "<br>This is because the directed graph needs to record information about where the edges are pointing, rather than just if an edge exists. "
   ]
  },
  {
   "cell_type": "markdown",
   "metadata": {},
   "source": [
    "<br>**Exercise 1(a):**\n",
    "\n",
    "This exercise is to do by hand, on paper. Given the undirected graph drawn below, write down the adjacency matrix."
   ]
  },
  {
   "cell_type": "markdown",
   "metadata": {},
   "source": [
    "<img src=\"img/small_graph_undirected.png\">"
   ]
  },
  {
   "cell_type": "markdown",
   "metadata": {},
   "source": [
    "**Exercise 1(b):**\n",
    "\n",
    "This exercise is to do by hand, on paper. Given the directed graph drawn below, write down the adjacency matrix."
   ]
  },
  {
   "cell_type": "markdown",
   "metadata": {},
   "source": [
    "<img src=\"img/small_graph_directed.png\">"
   ]
  },
  {
   "cell_type": "markdown",
   "metadata": {},
   "source": [
    "**Exercise 2:**\n",
    "\n",
    "Create the above graphs in networkx. use the graph_object.add_edge() method to add edges. \n",
    "<br>An example showing how to draw GraphA, and show other representations of the data is given below."
   ]
  },
  {
   "cell_type": "markdown",
   "metadata": {},
   "source": [
    "Define an **undirected** networkx graph object and add nodes/edges:"
   ]
  },
  {
   "cell_type": "code",
   "execution_count": 8,
   "metadata": {},
   "outputs": [],
   "source": [
    "graphA = nx.Graph()\n",
    "graphA.add_edge('A', 'B')\n",
    "graphA.add_edge('A', 'C')\n",
    "graphA.add_edge('B', 'C')\n",
    "graphA.add_edge('C', 'D')\n"
   ]
  },
  {
   "cell_type": "markdown",
   "metadata": {},
   "source": [
    "Define a **directed** networkx graph object and add nodes/edges:"
   ]
  },
  {
   "cell_type": "code",
   "execution_count": 16,
   "metadata": {},
   "outputs": [],
   "source": [
    "graphB = nx.DiGraph()\n",
    "graphB.add_edge('A', 'B')\n",
    "graphB.add_edge('A', 'C')\n",
    "graphB.add_edge('C', 'B')\n",
    "graphB.add_edge('E', 'C')\n",
    "graphB.add_edge('C', 'D')\n"
   ]
  },
  {
   "cell_type": "markdown",
   "metadata": {},
   "source": [
    "<br>The following 4 cells show different representations of our graph:<br>"
   ]
  },
  {
   "cell_type": "code",
   "execution_count": 17,
   "metadata": {},
   "outputs": [
    {
     "data": {
      "image/png": "[encoded data removed]",
      "text/plain": [
       "<Figure size 432x288 with 1 Axes>"
      ]
     },
     "metadata": {},
     "output_type": "display_data"
    }
   ],
   "source": [
    "nx.draw_spring(graphA, with_labels=True, node_size=1200, node_color='#eeeeff', edge_color='red')"
   ]
  },
  {
   "cell_type": "code",
   "execution_count": 18,
   "metadata": {},
   "outputs": [
    {
     "data": {
      "text/plain": [
       "<4x4 sparse matrix of type '<class 'numpy.int64'>'\n",
       "\twith 8 stored elements in Compressed Sparse Row format>"
      ]
     },
     "execution_count": 18,
     "metadata": {},
     "output_type": "execute_result"
    }
   ],
   "source": [
    "nx.adjacency_matrix(graphA)"
   ]
  },
  {
   "cell_type": "code",
   "execution_count": 19,
   "metadata": {},
   "outputs": [
    {
     "name": "stdout",
     "output_type": "stream",
     "text": [
      "  (0, 1)\t1\n",
      "  (0, 2)\t1\n",
      "  (1, 0)\t1\n",
      "  (1, 2)\t1\n",
      "  (2, 0)\t1\n",
      "  (2, 1)\t1\n",
      "  (2, 3)\t1\n",
      "  (3, 2)\t1\n"
     ]
    }
   ],
   "source": [
    "print(nx.adjacency_matrix(graphA))"
   ]
  },
  {
   "cell_type": "code",
   "execution_count": 20,
   "metadata": {},
   "outputs": [
    {
     "name": "stdout",
     "output_type": "stream",
     "text": [
      "['A', 'B', 'C', 'D']\n"
     ]
    },
    {
     "data": {
      "text/plain": [
       "matrix([[0., 1., 1., 0.],\n",
       "        [1., 0., 1., 0.],\n",
       "        [1., 1., 0., 1.],\n",
       "        [0., 0., 1., 0.]])"
      ]
     },
     "execution_count": 20,
     "metadata": {},
     "output_type": "execute_result"
    }
   ],
   "source": [
    "print(graphA.nodes())\n",
    "nx.to_numpy_matrix(graphA)"
   ]
  },
  {
   "cell_type": "markdown",
   "metadata": {},
   "source": [
    "network"
   ]
  },
  {
   "cell_type": "markdown",
   "metadata": {},
   "source": [
    "<br>networkx seems to be using 'numpy' - a popular python library, to store graph data. \n",
    "<br>numpy allows matrix and vector operations to be performed quickly and efficiently. This makes sense if our network gets very big! "
   ]
  },
  {
   "cell_type": "markdown",
   "metadata": {},
   "source": [
    "Lets also check graphB to see if we created it correctly. Print the adjacency matrix for `graphB` (as above) in the folowing cell:"
   ]
  },
  {
   "cell_type": "code",
   "execution_count": 24,
   "metadata": {},
   "outputs": [
    {
     "name": "stdout",
     "output_type": "stream",
     "text": [
      "  (0, 1)\t1\n",
      "  (0, 2)\t1\n",
      "  (2, 1)\t1\n",
      "  (2, 4)\t1\n",
      "  (3, 2)\t1\n",
      "[[0. 1. 1. 0. 0.]\n",
      " [0. 0. 0. 0. 0.]\n",
      " [0. 1. 0. 0. 1.]\n",
      " [0. 0. 1. 0. 0.]\n",
      " [0. 0. 0. 0. 0.]]\n"
     ]
    },
    {
     "data": {
      "image/png": "[encoded data removed]",
      "text/plain": [
       "<Figure size 432x288 with 1 Axes>"
      ]
     },
     "metadata": {},
     "output_type": "display_data"
    }
   ],
   "source": [
    "# your commands here.\n",
    "\n",
    "# nx.draw_spring....\n",
    "nx.draw_spring(graphB, with_labels=True, node_size=1200, node_color=\"#eeeeff\", edge_color=\"red\")\n",
    "# nx.adjacency_matrix...\n",
    "print(nx.adjacency_matrix(graphB))\n",
    "print(nx.to_numpy_matrix(graphB))"
   ]
  },
  {
   "cell_type": "markdown",
   "metadata": {},
   "source": [
    "**Exercise 3:**\n",
    "\n",
    "Complete the function below to find the degree distrbution for any given graph. You can use the networkx method `graph.degree()`, which returns the number of edges connecting to each node. You should return a tuple of two lists: the first list contains all observed vertex degree values in the graph, and the second contains the counts showing how often a vertex with that degree was observed.\n",
    "\n",
    "For instance, calling `degree_distribution()` on `graphA` above could return\n",
    "\n",
    "```([1, 2, 3], [1, 2, 1])```\n",
    "\n",
    "meaning that there is one vertex with degree 1 (D), two vertices with degree 2 (A and B), and one vertex with degree 3 (C).\n",
    "\n",
    "These two lists will give us a handy form for plotting the degree distribution."
   ]
  },
  {
   "cell_type": "code",
   "execution_count": 25,
   "metadata": {},
   "outputs": [
    {
     "data": {
      "text/plain": [
       "3"
      ]
     },
     "execution_count": 25,
     "metadata": {},
     "output_type": "execute_result"
    }
   ],
   "source": [
    "# Here's the networkx function `graph.degree()`:\n",
    "graphA.degree('C')"
   ]
  },
  {
   "cell_type": "code",
   "execution_count": 29,
   "metadata": {},
   "outputs": [],
   "source": [
    "def degree_distribution(graph):\n",
    "    \"\"\"\n",
    "    For the networkx graph provided, return a tuple of lists, where\n",
    "    the first list gives all observed vertex degrees, and the second list gives\n",
    "    the corresponding vertex counts.\n",
    "    \"\"\"\n",
    "    # Complete this function\n",
    "    dict = {}\n",
    "    for current_node in graph.nodes():\n",
    "        current_degree = graph.degree(current_node)\n",
    "        if current_degree in dict:\n",
    "            dict[current_degree] += 1\n",
    "        else:\n",
    "            dict[current_degree] = 1\n",
    "    \n",
    "    degrees = []\n",
    "    frequencies = []\n",
    "    for key, value in dict.items():\n",
    "        degrees.append(key)\n",
    "        frequencies.append(value)\n",
    "    return (degrees, frequencies)"
   ]
  },
  {
   "cell_type": "markdown",
   "metadata": {},
   "source": [
    "Once you have this function, you can draw the degree distribution with a scatter plot:"
   ]
  },
  {
   "cell_type": "code",
   "execution_count": 30,
   "metadata": {},
   "outputs": [
    {
     "data": {
      "text/plain": [
       "<matplotlib.collections.PathCollection at 0x7fac0c6efa90>"
      ]
     },
     "execution_count": 30,
     "metadata": {},
     "output_type": "execute_result"
    },
    {
     "data": {
      "image/png": "[encoded data removed]",
      "text/plain": [
       "<Figure size 432x288 with 1 Axes>"
      ]
     },
     "metadata": {
      "needs_background": "light"
     },
     "output_type": "display_data"
    }
   ],
   "source": [
    "# Graph A:\n",
    "degrees, counts = degree_distribution(graphA)\n",
    "fig, ax = plt.subplots()\n",
    "ax.scatter(degrees, counts)"
   ]
  },
  {
   "cell_type": "markdown",
   "metadata": {},
   "source": [
    "Here are some graphs of types described in lectures. You can generate other graph types with networkx functions described at https://networkx.github.io/documentation/stable/reference/generators.html\n",
    "\n",
    "A random (Erdos-Renyi) graph:"
   ]
  },
  {
   "cell_type": "code",
   "execution_count": 31,
   "metadata": {},
   "outputs": [],
   "source": [
    "# 600 nodes, probability of each edge 0.4\n",
    "random_graph = nx.fast_gnp_random_graph(600, 0.4)"
   ]
  },
  {
   "cell_type": "markdown",
   "metadata": {},
   "source": [
    "A scale-free graph:"
   ]
  },
  {
   "cell_type": "code",
   "execution_count": 32,
   "metadata": {},
   "outputs": [],
   "source": [
    "# 600 nodes\n",
    "scale_free_graph = nx.scale_free_graph(600)"
   ]
  },
  {
   "cell_type": "markdown",
   "metadata": {},
   "source": [
    "If you are finding the degree distribution correctly, you can plot the distributions for these different graph types:"
   ]
  },
  {
   "cell_type": "code",
   "execution_count": 33,
   "metadata": {},
   "outputs": [
    {
     "data": {
      "text/plain": [
       "<matplotlib.collections.PathCollection at 0x7fac0c6c6ad0>"
      ]
     },
     "execution_count": 33,
     "metadata": {},
     "output_type": "execute_result"
    },
    {
     "data": {
      "image/png": "[encoded data removed]",
      "text/plain": [
       "<Figure size 432x288 with 1 Axes>"
      ]
     },
     "metadata": {
      "needs_background": "light"
     },
     "output_type": "display_data"
    }
   ],
   "source": [
    "degrees, counts = degree_distribution(random_graph)\n",
    "fig, ax = plt.subplots()\n",
    "ax.scatter(degrees, counts)"
   ]
  },
  {
   "cell_type": "code",
   "execution_count": 34,
   "metadata": {},
   "outputs": [
    {
     "data": {
      "text/plain": [
       "<matplotlib.collections.PathCollection at 0x7fac0e381ed0>"
      ]
     },
     "execution_count": 34,
     "metadata": {},
     "output_type": "execute_result"
    },
    {
     "data": {
      "image/png": "[encoded data removed]",
      "text/plain": [
       "<Figure size 432x288 with 1 Axes>"
      ]
     },
     "metadata": {
      "needs_background": "light"
     },
     "output_type": "display_data"
    }
   ],
   "source": [
    "degrees, counts = degree_distribution(scale_free_graph)\n",
    "fig, ax = plt.subplots()\n",
    "ax.scatter(degrees, counts)"
   ]
  },
  {
   "cell_type": "markdown",
   "metadata": {},
   "source": [
    "The plot for the scale-free graph doesn't look very clear as the relationship shown in lectures is on a log-log scale. Try using `ax.set_xscale('log')` and `ax.set_yscale('log')` on your plot to see this relationship more clearly."
   ]
  },
  {
   "cell_type": "markdown",
   "metadata": {},
   "source": [
    "**Exercise 4:**\n",
    "\n",
    "Complete the function below to implement the clustering coefficient calculation described in lectures. This function does exist in networkx, but don't use it - implement it yourself. You can however use the `graph.neighbors()` method from networkx to find all the neighbours of a given node.\n",
    "\n",
    "You can check that your answer gives the same result as the networkx function `nx.clustering()`."
   ]
  },
  {
   "cell_type": "code",
   "execution_count": 58,
   "metadata": {},
   "outputs": [],
   "source": [
    "def clustering_coefficient(graph, node_label):\n",
    "    \"\"\"\n",
    "    Calculate and return the clustering coefficient for a node in an undirected graph.\n",
    "    The clustering coefficient is the number of edges between neighbors \n",
    "    divided by the possible number of edges between neighbors.\n",
    "    \"\"\"\n",
    "    # Complete this function\n",
    "    neighbors_iter = graph.neighbors(node_label)\n",
    "    neighbors_list = [node for node in neighbors_iter]\n",
    "    neighbors_set = set(neighbors_list)\n",
    "    k = len(neighbors_list)\n",
    "    e = 0\n",
    "    for node in neighbors_list:\n",
    "        edge_list = graph.edges(node)\n",
    "        for edge in edge_list:\n",
    "            if edge[1] in neighbors_set:\n",
    "                e += 1\n",
    "    # Since this is undirected graph, divide total e by 2 (since A-B and B-A is the same)\n",
    "    e /= 2\n",
    "    coefficient = (2 * e) / (k * (k-1))\n",
    "    return coefficient\n",
    "    # Or you can simply use built-in function\n",
    "    return nx.clustering(graph, node_label)"
   ]
  },
  {
   "cell_type": "code",
   "execution_count": 59,
   "metadata": {},
   "outputs": [
    {
     "data": {
      "text/plain": [
       "0.3333333333333333"
      ]
     },
     "execution_count": 59,
     "metadata": {},
     "output_type": "execute_result"
    }
   ],
   "source": [
    "# Should give 0.333333\n",
    "clustering_coefficient(graphA, 'C')"
   ]
  },
  {
   "cell_type": "code",
   "execution_count": null,
   "metadata": {},
   "outputs": [],
   "source": []
  }
 ],
 "metadata": {
  "kernelspec": {
   "display_name": "Python 3",
   "language": "python",
   "name": "python3"
  },
  "language_info": {
   "codemirror_mode": {
    "name": "ipython",
    "version": 3
   },
   "file_extension": ".py",
   "mimetype": "text/x-python",
   "name": "python",
   "nbconvert_exporter": "python",
   "pygments_lexer": "ipython3",
   "version": "3.7.6"
  }
 },
 "nbformat": 4,
 "nbformat_minor": 4
}
